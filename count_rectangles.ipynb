{
 "cells": [
  {
   "cell_type": "code",
   "execution_count": 1,
   "metadata": {},
   "outputs": [],
   "source": [
    "from sympy import *"
   ]
  },
  {
   "cell_type": "code",
   "execution_count": 3,
   "metadata": {},
   "outputs": [],
   "source": [
    "def star(coordinate,max_row,max_col):\n",
    "    origin_star = [(0,0),(1,0),(-1,0),(0,1),(0,-1)]\n",
    "    shifted_star = []\n",
    "    for p in origin_star:\n",
    "        shifted_coordinates = (coordinate[0]+p[0],coordinate[1]+p[1])\n",
    "        if 0 <= shifted_coordinates[0] <= max_row and 0 <= shifted_coordinates[1] <= max_col:\n",
    "            shifted_star.append(shifted_coordinates)\n",
    "    return shifted_star\n",
    "\n",
    "def connected_component(matrix, coordinate):   \n",
    "    stack = []\n",
    "    discovered_zeros = set()\n",
    "    max_row = len(matrix) - 1\n",
    "    max_col = len(matrix[0]) - 1\n",
    "    if not (0 <= coordinate[0] <= max_row and 0 <= coordinate[1] <= max_col):\n",
    "        raise ValueError('coordinate is out of bounds for matrix')\n",
    "    \n",
    "    if matrix[coordinate[0]][coordinate[1]] == 0:\n",
    "        stack.append(coordinate)\n",
    "    \n",
    "    \n",
    "    while stack:\n",
    "        point = stack.pop()\n",
    "        new_coordinates = star(point,max_row,max_col)\n",
    "        for p in new_coordinates:\n",
    "            if matrix[p[0]][p[1]] == 0 and p not in discovered_zeros:\n",
    "                discovered_zeros.add(p)\n",
    "                stack.append(p)\n",
    "    return sorted(list(discovered_zeros))\n",
    "\n",
    "def all_connected_components(matrix):\n",
    "    from random import choice\n",
    "    max_row = len(matrix)\n",
    "    max_col = len(matrix[0])\n",
    "    s = [(i,j) for i in range(max_row) for j in range(max_col)]\n",
    "    final = []\n",
    "    for p in s:\n",
    "        if not any(p in row for row in final):\n",
    "            component = connected_component(matrix,p)\n",
    "            if component:\n",
    "                final.append(component)\n",
    "                \n",
    "    return final"
   ]
  },
  {
   "cell_type": "code",
   "execution_count": 6,
   "metadata": {},
   "outputs": [],
   "source": [
    "from random import randint"
   ]
  },
  {
   "cell_type": "code",
   "execution_count": 27,
   "metadata": {},
   "outputs": [
    {
     "data": {
      "text/latex": [
       "$\\displaystyle \\left[\\begin{matrix}0 & 1 & 0 & 0 & 1 & 0 & 0 & 0 & 1\\\\0 & 1 & 0 & 1 & 0 & 0 & 0 & 1 & 0\\\\1 & 0 & 0 & 1 & 1 & 1 & 1 & 0 & 0\\\\1 & 0 & 1 & 0 & 1 & 0 & 0 & 0 & 1\\\\0 & 0 & 1 & 0 & 0 & 1 & 0 & 0 & 1\\\\0 & 0 & 1 & 0 & 1 & 0 & 1 & 0 & 0\\\\0 & 0 & 0 & 0 & 0 & 1 & 0 & 1 & 1\\\\1 & 1 & 0 & 1 & 1 & 0 & 1 & 0 & 0\\end{matrix}\\right]$"
      ],
      "text/plain": [
       "Matrix([\n",
       "[0, 1, 0, 0, 1, 0, 0, 0, 1],\n",
       "[0, 1, 0, 1, 0, 0, 0, 1, 0],\n",
       "[1, 0, 0, 1, 1, 1, 1, 0, 0],\n",
       "[1, 0, 1, 0, 1, 0, 0, 0, 1],\n",
       "[0, 0, 1, 0, 0, 1, 0, 0, 1],\n",
       "[0, 0, 1, 0, 1, 0, 1, 0, 0],\n",
       "[0, 0, 0, 0, 0, 1, 0, 1, 1],\n",
       "[1, 1, 0, 1, 1, 0, 1, 0, 0]])"
      ]
     },
     "metadata": {},
     "output_type": "display_data"
    },
    {
     "name": "stdout",
     "output_type": "stream",
     "text": [
      "connected components:\n",
      "[[(0, 0), (1, 0)], [(0, 2), (0, 3), (1, 2), (2, 1), (2, 2), (3, 1), (3, 3), (4, 0), (4, 1), (4, 3), (4, 4), (5, 0), (5, 1), (5, 3), (6, 0), (6, 1), (6, 2), (6, 3), (6, 4), (7, 2)], [(0, 5), (0, 6), (0, 7), (1, 4), (1, 5), (1, 6)], [(1, 8), (2, 7), (2, 8), (3, 5), (3, 6), (3, 7), (4, 6), (4, 7), (5, 7), (5, 8)], [(5, 5)], [(6, 6)], [(7, 5)], [(7, 7), (7, 8)]]\n"
     ]
    },
    {
     "data": {
      "text/latex": [
       "$\\displaystyle \\left[\\begin{matrix}1 & 0 & 0 & 1 & 0 & 1 & 0 & 1 & 0\\\\1 & 1 & 1 & 0 & 1 & 1 & 1 & 1 & 0\\\\0 & 0 & 1 & 1 & 0 & 1 & 0 & 0 & 1\\\\0 & 0 & 1 & 0 & 1 & 1 & 1 & 0 & 1\\\\0 & 1 & 0 & 1 & 1 & 1 & 1 & 0 & 1\\\\0 & 1 & 0 & 1 & 0 & 0 & 0 & 1 & 1\\\\1 & 0 & 1 & 0 & 0 & 0 & 0 & 0 & 0\\\\0 & 0 & 1 & 0 & 0 & 0 & 1 & 1 & 0\\end{matrix}\\right]$"
      ],
      "text/plain": [
       "Matrix([\n",
       "[1, 0, 0, 1, 0, 1, 0, 1, 0],\n",
       "[1, 1, 1, 0, 1, 1, 1, 1, 0],\n",
       "[0, 0, 1, 1, 0, 1, 0, 0, 1],\n",
       "[0, 0, 1, 0, 1, 1, 1, 0, 1],\n",
       "[0, 1, 0, 1, 1, 1, 1, 0, 1],\n",
       "[0, 1, 0, 1, 0, 0, 0, 1, 1],\n",
       "[1, 0, 1, 0, 0, 0, 0, 0, 0],\n",
       "[0, 0, 1, 0, 0, 0, 1, 1, 0]])"
      ]
     },
     "metadata": {},
     "output_type": "display_data"
    },
    {
     "name": "stdout",
     "output_type": "stream",
     "text": [
      "connected components:\n",
      "[[(0, 1), (0, 2)], [(0, 4)], [(0, 6)], [(0, 8), (1, 8)], [(1, 3)], [(2, 0), (2, 1), (3, 0), (3, 1), (4, 0), (5, 0)], [(2, 4)], [(2, 6), (2, 7), (3, 7), (4, 7)], [(3, 3)], [(4, 2), (5, 2)], [(5, 4), (5, 5), (5, 6), (6, 3), (6, 4), (6, 5), (6, 6), (6, 7), (6, 8), (7, 3), (7, 4), (7, 5), (7, 8)], [(6, 1), (7, 0), (7, 1)]]\n"
     ]
    },
    {
     "data": {
      "text/latex": [
       "$\\displaystyle \\left[\\begin{matrix}0 & 0 & 1 & 0 & 1 & 0 & 1 & 1 & 0\\\\0 & 1 & 0 & 0 & 1 & 1 & 0 & 1 & 0\\\\1 & 0 & 1 & 1 & 0 & 1 & 0 & 0 & 0\\\\0 & 1 & 0 & 1 & 1 & 0 & 0 & 0 & 1\\\\1 & 0 & 0 & 1 & 0 & 0 & 1 & 1 & 0\\\\1 & 1 & 1 & 0 & 0 & 1 & 1 & 1 & 0\\\\1 & 0 & 1 & 1 & 0 & 0 & 1 & 0 & 0\\\\0 & 1 & 1 & 1 & 0 & 1 & 0 & 0 & 1\\end{matrix}\\right]$"
      ],
      "text/plain": [
       "Matrix([\n",
       "[0, 0, 1, 0, 1, 0, 1, 1, 0],\n",
       "[0, 1, 0, 0, 1, 1, 0, 1, 0],\n",
       "[1, 0, 1, 1, 0, 1, 0, 0, 0],\n",
       "[0, 1, 0, 1, 1, 0, 0, 0, 1],\n",
       "[1, 0, 0, 1, 0, 0, 1, 1, 0],\n",
       "[1, 1, 1, 0, 0, 1, 1, 1, 0],\n",
       "[1, 0, 1, 1, 0, 0, 1, 0, 0],\n",
       "[0, 1, 1, 1, 0, 1, 0, 0, 1]])"
      ]
     },
     "metadata": {},
     "output_type": "display_data"
    },
    {
     "name": "stdout",
     "output_type": "stream",
     "text": [
      "connected components:\n",
      "[[(0, 0), (0, 1), (1, 0)], [(0, 3), (1, 2), (1, 3)], [(0, 5)], [(0, 8), (1, 6), (1, 8), (2, 6), (2, 7), (2, 8), (3, 5), (3, 6), (3, 7), (4, 4), (4, 5), (5, 3), (5, 4), (6, 4), (6, 5), (7, 4)], [(2, 1)], [(2, 4)], [(3, 0)], [(3, 2), (4, 1), (4, 2)], [(4, 8), (5, 8), (6, 7), (6, 8), (7, 6), (7, 7)], [(6, 1)], [(7, 0)]]\n"
     ]
    },
    {
     "data": {
      "text/latex": [
       "$\\displaystyle \\left[\\begin{matrix}1 & 1 & 0 & 0 & 0 & 1 & 1 & 0 & 1\\\\0 & 1 & 0 & 1 & 1 & 0 & 0 & 1 & 1\\\\0 & 1 & 1 & 0 & 0 & 0 & 0 & 0 & 1\\\\1 & 0 & 0 & 1 & 0 & 1 & 0 & 0 & 0\\\\1 & 0 & 0 & 0 & 0 & 0 & 1 & 1 & 1\\\\1 & 0 & 0 & 1 & 1 & 0 & 0 & 1 & 0\\\\1 & 1 & 0 & 0 & 0 & 0 & 1 & 0 & 1\\\\1 & 0 & 0 & 0 & 0 & 1 & 1 & 1 & 1\\end{matrix}\\right]$"
      ],
      "text/plain": [
       "Matrix([\n",
       "[1, 1, 0, 0, 0, 1, 1, 0, 1],\n",
       "[0, 1, 0, 1, 1, 0, 0, 1, 1],\n",
       "[0, 1, 1, 0, 0, 0, 0, 0, 1],\n",
       "[1, 0, 0, 1, 0, 1, 0, 0, 0],\n",
       "[1, 0, 0, 0, 0, 0, 1, 1, 1],\n",
       "[1, 0, 0, 1, 1, 0, 0, 1, 0],\n",
       "[1, 1, 0, 0, 0, 0, 1, 0, 1],\n",
       "[1, 0, 0, 0, 0, 1, 1, 1, 1]])"
      ]
     },
     "metadata": {},
     "output_type": "display_data"
    },
    {
     "name": "stdout",
     "output_type": "stream",
     "text": [
      "connected components:\n",
      "[[(0, 2), (0, 3), (0, 4), (1, 2)], [(0, 7)], [(1, 0), (2, 0)], [(1, 5), (1, 6), (2, 3), (2, 4), (2, 5), (2, 6), (2, 7), (3, 1), (3, 2), (3, 4), (3, 6), (3, 7), (3, 8), (4, 1), (4, 2), (4, 3), (4, 4), (4, 5), (5, 1), (5, 2), (5, 5), (5, 6), (6, 2), (6, 3), (6, 4), (6, 5), (7, 1), (7, 2), (7, 3), (7, 4)], [(5, 8)], [(6, 7)]]\n"
     ]
    },
    {
     "data": {
      "text/latex": [
       "$\\displaystyle \\left[\\begin{matrix}0 & 1 & 1 & 1 & 1 & 1 & 1 & 0 & 0\\\\0 & 0 & 0 & 0 & 1 & 0 & 0 & 1 & 1\\\\0 & 1 & 0 & 0 & 0 & 1 & 0 & 1 & 0\\\\1 & 0 & 0 & 1 & 1 & 0 & 1 & 1 & 0\\\\1 & 1 & 1 & 1 & 0 & 0 & 1 & 0 & 0\\\\0 & 0 & 1 & 1 & 0 & 0 & 0 & 1 & 1\\\\0 & 0 & 1 & 1 & 1 & 1 & 0 & 0 & 0\\\\0 & 1 & 1 & 0 & 1 & 0 & 1 & 0 & 1\\end{matrix}\\right]$"
      ],
      "text/plain": [
       "Matrix([\n",
       "[0, 1, 1, 1, 1, 1, 1, 0, 0],\n",
       "[0, 0, 0, 0, 1, 0, 0, 1, 1],\n",
       "[0, 1, 0, 0, 0, 1, 0, 1, 0],\n",
       "[1, 0, 0, 1, 1, 0, 1, 1, 0],\n",
       "[1, 1, 1, 1, 0, 0, 1, 0, 0],\n",
       "[0, 0, 1, 1, 0, 0, 0, 1, 1],\n",
       "[0, 0, 1, 1, 1, 1, 0, 0, 0],\n",
       "[0, 1, 1, 0, 1, 0, 1, 0, 1]])"
      ]
     },
     "metadata": {},
     "output_type": "display_data"
    },
    {
     "name": "stdout",
     "output_type": "stream",
     "text": [
      "connected components:\n",
      "[[(0, 0), (1, 0), (1, 1), (1, 2), (1, 3), (2, 0), (2, 2), (2, 3), (2, 4), (3, 1), (3, 2)], [(0, 7), (0, 8)], [(1, 5), (1, 6), (2, 6)], [(2, 8), (3, 8), (4, 7), (4, 8)], [(3, 5), (4, 4), (4, 5), (5, 4), (5, 5), (5, 6), (6, 6), (6, 7), (6, 8), (7, 7)], [(5, 0), (5, 1), (6, 0), (6, 1), (7, 0)], [(7, 3)], [(7, 5)]]\n"
     ]
    }
   ],
   "source": [
    "for test in range(5):\n",
    "    m = [[randint(0,1) for i in range(9)] for j in range(8)]\n",
    "    spm = Matrix(m)\n",
    "    display(spm)\n",
    "    print(\"connected components:\")\n",
    "    print(all_connected_components(m))"
   ]
  }
 ],
 "metadata": {
  "kernelspec": {
   "display_name": "Python 3",
   "language": "python",
   "name": "python3"
  },
  "language_info": {
   "codemirror_mode": {
    "name": "ipython",
    "version": 3
   },
   "file_extension": ".py",
   "mimetype": "text/x-python",
   "name": "python",
   "nbconvert_exporter": "python",
   "pygments_lexer": "ipython3",
   "version": "3.7.4"
  }
 },
 "nbformat": 4,
 "nbformat_minor": 4
}
